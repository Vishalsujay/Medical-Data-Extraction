{
 "cells": [
  {
   "cell_type": "code",
   "execution_count": 95,
   "id": "a426c059-d292-4e23-a595-e50d81da5b11",
   "metadata": {},
   "outputs": [],
   "source": [
    "# import module\n",
    "from pdf2image import convert_from_path\n",
    "import re"
   ]
  },
  {
   "cell_type": "code",
   "execution_count": 96,
   "id": "58dcbceb-2da5-47ec-90c0-6671ba7d358c",
   "metadata": {},
   "outputs": [],
   "source": [
    "#Store the images from the pdf by giving the appropriate path \n",
    "pages = convert_from_path(r'C:\\Users\\Vishal Sujay Kumar\\Desktop\\Codewithbasics\\Python\\Medical data extraction\\Project\\backend\\resources\\patient_details\\pd_2.pdf', poppler_path=r'C:\\poppler-24.02.0\\Library\\bin')"
   ]
  },
  {
   "cell_type": "code",
   "execution_count": 97,
   "id": "77653141-4660-4bae-8f5e-fe5a76606379",
   "metadata": {},
   "outputs": [],
   "source": [
    "pages[0].show()"
   ]
  },
  {
   "cell_type": "code",
   "execution_count": 98,
   "id": "0ab1a948-6273-40ff-88fd-3539ee4d1922",
   "metadata": {},
   "outputs": [],
   "source": [
    "import pytesseract"
   ]
  },
  {
   "cell_type": "code",
   "execution_count": 99,
   "id": "3ada5f30-7d0e-4727-bb8d-d985557d30fe",
   "metadata": {},
   "outputs": [
    {
     "name": "stdout",
     "output_type": "stream",
     "text": [
      "a\n",
      "\n",
      "Patient Medical Record\n",
      "\n",
      "Patient Information\n",
      "Jerry Lucas\n",
      "\n",
      "(279) 920-8204\n",
      "4218 Wheeler Ridge Dr\n",
      "\n",
      "Buffalo, New York, 14201\n",
      "United States\n",
      "\n",
      "In Case of Emergency\n",
      "\n",
      "Birth Date\n",
      "May 2 1998\n",
      "\n",
      "Weight:\n",
      "57\n",
      "\n",
      "Height:\n",
      "170\n",
      "\n",
      "Joe Lucas\n",
      "\n",
      "Home phone\n",
      "\n",
      "General Medical History\n",
      "\n",
      "4218 Wheeler Ridge Dr\n",
      "Buffalo, New York, 14201\n",
      "United States\n",
      "\n",
      "Work phone\n",
      "\n",
      "Chicken Pox (Varicelia):\n",
      "\n",
      "IMMUNE\n",
      "\n",
      "Have you had the Hepatitis B vaccination?\n",
      "\n",
      "Measles:\n",
      "\n",
      "NOT IMMUNE\n",
      "\n",
      "any Medical Problems (asthma, seizures, headaches):\n",
      "\n",
      "\n"
     ]
    }
   ],
   "source": [
    "pytesseract.pytesseract.tesseract_cmd=r'C:\\Program Files\\Tesseract-OCR\\tesseract.exe'\n",
    "text = pytesseract.image_to_string(pages[0])\n",
    "print(text)"
   ]
  },
  {
   "cell_type": "code",
   "execution_count": 100,
   "id": "e5e01e92-26cf-41ae-aacf-79098d6c5e2d",
   "metadata": {},
   "outputs": [],
   "source": [
    "import numpy as np\n",
    "import cv2\n",
    "from PIL import Image\n",
    "\n",
    "def pre_process(img):\n",
    "    gray = cv2.cvtColor(np.array(img), cv2.COLOR_BGR2GRAY)\n",
    "    resized = cv2.resize(gray, None, fx=1.5, fy=1.5, interpolation=cv2.INTER_LINEAR)\n",
    "    processed_image = cv2.adaptiveThreshold(\n",
    "        resized,\n",
    "        255,\n",
    "        cv2.ADAPTIVE_THRESH_GAUSSIAN_C, \n",
    "        cv2.THRESH_BINARY, \n",
    "        61,\n",
    "        11\n",
    "    )\n",
    "    return processed_image\n",
    "    \n"
   ]
  },
  {
   "cell_type": "code",
   "execution_count": 101,
   "id": "abf1195a-0e7f-4cd4-a916-e34ffbdd4ef8",
   "metadata": {},
   "outputs": [],
   "source": [
    "image = pre_process(pages[0])\n",
    "Image.fromarray(image).show()"
   ]
  },
  {
   "cell_type": "code",
   "execution_count": 102,
   "id": "b23a9b11-62c5-4607-afaa-7725518d504e",
   "metadata": {},
   "outputs": [
    {
     "name": "stdout",
     "output_type": "stream",
     "text": [
      "Patient Medical Record\n",
      "\n",
      "Patient Information Birth Date\n",
      "\n",
      "Jerry Lucas May 2 1998\n",
      "\n",
      "(279) 920-8204 Weight:\n",
      "\n",
      "4218 Wheeler Ridge Dr 57\n",
      "\n",
      "Buffalo, New York, 14201 Height:\n",
      "\n",
      "United States gnt\n",
      "170\n",
      "\n",
      "In Case of Emergency\n",
      "\n",
      "eee\n",
      "\n",
      "Joe Lucas . 4218 Wheeler Ridge Dr\n",
      "Buffalo, New York, 14201\n",
      "Home phone United States\n",
      "Work phone\n",
      "\n",
      "General Medical History\n",
      "\n",
      "Chicken Pox (Varicelia): Measles: ..\n",
      "\n",
      "IMMUNE NOT IMMUNE\n",
      "\n",
      "Have you had the Hepatitis B vaccination?\n",
      "\n",
      "‘Yes\n",
      "\n",
      "| List any Medical Problems (asthma, seizures, headaches):\n",
      "N/A\n",
      "\n",
      "7?\n",
      "v\n",
      "\n",
      "17/12/2020\n",
      "\n",
      "\n"
     ]
    }
   ],
   "source": [
    "text = pytesseract.image_to_string(image)\n",
    "print(text)"
   ]
  },
  {
   "cell_type": "code",
   "execution_count": 103,
   "id": "467e527f-0e93-4521-8f78-cd2dbdeb1847",
   "metadata": {},
   "outputs": [
    {
     "name": "stdout",
     "output_type": "stream",
     "text": [
      "['May 2 1998']\n"
     ]
    }
   ],
   "source": [
    "#To extract the date from the text\n",
    "pattern = \"(\\D{3}\\s\\d{1}\\s\\d{4})\"\n",
    "match = re.findall(pattern,text)\n",
    "print(match)"
   ]
  },
  {
   "cell_type": "code",
   "execution_count": 104,
   "id": "4400da51-1960-4eb7-b4a5-343ffc5758dd",
   "metadata": {},
   "outputs": [
    {
     "name": "stdout",
     "output_type": "stream",
     "text": [
      "<class 'list'>\n",
      "Jerry Lucas\n"
     ]
    }
   ],
   "source": [
    "#To extract name from the text\n",
    "pattern = \"Patient Information Birth Date(.*)(\\D{3}\\s\\d{1}\\s\\d{4})\"\n",
    "match = re.findall(pattern,text,flags=re.DOTALL)\n",
    "# Access the second group within the first tuple of the matches list\n",
    "print(type(match))\n",
    "name = match[0][0].strip()\n",
    "print(name)"
   ]
  },
  {
   "cell_type": "code",
   "execution_count": 113,
   "id": "eeae9833-1989-44bc-86be-286922610a9c",
   "metadata": {},
   "outputs": [
    {
     "name": "stdout",
     "output_type": "stream",
     "text": [
      "1\n",
      "['(279) 920-8204 ']\n"
     ]
    }
   ],
   "source": [
    "pattern = \"Patient Information Birth Date\\n\\n\\D+\\d+\\s\\d+\\n\\n(.*?)Weight\"\n",
    "match = re.findall(pattern,text,flags=re.DOTALL)\n",
    "# Access the second group within the first tuple of the matches list\n",
    "print(len(match))\n",
    "print(match)"
   ]
  },
  {
   "cell_type": "code",
   "execution_count": 112,
   "id": "5430d5ce-be16-484e-a4b3-943b839ebd3c",
   "metadata": {},
   "outputs": [
    {
     "name": "stdout",
     "output_type": "stream",
     "text": [
      "Yes\n"
     ]
    }
   ],
   "source": [
    "pattern = 'Have you had the Hepatitis B vaccination\\?.*(Yes|No)'\n",
    "match = re.findall(pattern,text,flags=re.DOTALL)\n",
    "print(match[0].strip())"
   ]
  },
  {
   "cell_type": "code",
   "execution_count": 117,
   "id": "b20bccb9-15b1-4780-95e8-385ebd31dc09",
   "metadata": {},
   "outputs": [
    {
     "name": "stdout",
     "output_type": "stream",
     "text": [
      "N/A\n",
      "\n",
      "7?\n",
      "v\n",
      "\n",
      "17/12/2020\n"
     ]
    }
   ],
   "source": [
    "pattern = \"List\\sany\\sMedical\\sProblems\\s\\Wasthma\\W\\sseizures\\W\\sheadaches\\W\\W(.*)\"\n",
    "match = re.findall(pattern,text,flags=re.DOTALL)\n",
    "print(match[0].strip())\n",
    "\n"
   ]
  },
  {
   "cell_type": "code",
   "execution_count": 118,
   "id": "0737b6d9-790a-4449-843f-2e0e5404ea0f",
   "metadata": {},
   "outputs": [
    {
     "data": {
      "text/plain": [
       "'N/A\\n\\n7?\\nv\\n\\n17/12/2020'"
      ]
     },
     "execution_count": 118,
     "metadata": {},
     "output_type": "execute_result"
    }
   ],
   "source": [
    "pattern = 'List any Medical Problems \\(asthma, seizures, headaches\\):(.*)'\n",
    "\n",
    "matches = re.findall(pattern, text, flags=re.DOTALL)\n",
    "matches[0].strip()"
   ]
  },
  {
   "cell_type": "code",
   "execution_count": null,
   "id": "1f87adaa-0a5f-4a3e-8a90-aa93f000f3b4",
   "metadata": {},
   "outputs": [],
   "source": []
  }
 ],
 "metadata": {
  "kernelspec": {
   "display_name": "Python 3 (ipykernel)",
   "language": "python",
   "name": "python3"
  },
  "language_info": {
   "codemirror_mode": {
    "name": "ipython",
    "version": 3
   },
   "file_extension": ".py",
   "mimetype": "text/x-python",
   "name": "python",
   "nbconvert_exporter": "python",
   "pygments_lexer": "ipython3",
   "version": "3.11.5"
  }
 },
 "nbformat": 4,
 "nbformat_minor": 5
}
