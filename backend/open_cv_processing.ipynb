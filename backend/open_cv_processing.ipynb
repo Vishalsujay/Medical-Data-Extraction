{
 "cells": [
  {
   "cell_type": "code",
   "execution_count": 22,
   "id": "f9ed4364-ca58-40f3-be23-3b10f20a0e40",
   "metadata": {},
   "outputs": [],
   "source": [
    "import cv2 as cv\n",
    "import numpy as np\n",
    "from PIL import Image"
   ]
  },
  {
   "cell_type": "code",
   "execution_count": 15,
   "id": "331df612-59b2-40d7-8d55-024a5117e70c",
   "metadata": {},
   "outputs": [],
   "source": [
    "img = cv.imread(r\"C:\\Users\\Vishal Sujay Kumar\\Desktop\\Codewithbasics\\Python\\Medical data extraction\\Project\\backend\\notebooks\\dark_image.jpg\", cv.IMREAD_GRAYSCALE)\n",
    "cv.imshow(\"Image\", img)\n",
    "cv.waitKey(0)\n",
    "cv.destroyAllWindows()\n",
    "#img"
   ]
  },
  {
   "cell_type": "code",
   "execution_count": 25,
   "id": "b0afbc5e-d465-4b0d-bf43-e8a77a16f348",
   "metadata": {},
   "outputs": [],
   "source": [
    "#Here we are giving the minimum and the maximum threshold \n",
    "_, new_img = cv.threshold(img,80,255,cv.THRESH_BINARY)\n",
    "Image.fromarray(new_img).show()"
   ]
  },
  {
   "cell_type": "code",
   "execution_count": 34,
   "id": "51332668-a1dd-4c0e-9c6a-3ce0ad318519",
   "metadata": {},
   "outputs": [],
   "source": [
    "new_img = cv.adaptiveThreshold(\n",
    "    img, 255, \n",
    "    cv.ADAPTIVE_THRESH_GAUSSIAN_C, \n",
    "    cv.THRESH_BINARY, \n",
    "    55,\n",
    "    10\n",
    ")\n",
    "Image.fromarray(new_img).show()"
   ]
  },
  {
   "cell_type": "code",
   "execution_count": null,
   "id": "e4f9130d-6fe6-42d9-be36-479618804eb1",
   "metadata": {},
   "outputs": [],
   "source": []
  }
 ],
 "metadata": {
  "kernelspec": {
   "display_name": "Python 3 (ipykernel)",
   "language": "python",
   "name": "python3"
  },
  "language_info": {
   "codemirror_mode": {
    "name": "ipython",
    "version": 3
   },
   "file_extension": ".py",
   "mimetype": "text/x-python",
   "name": "python",
   "nbconvert_exporter": "python",
   "pygments_lexer": "ipython3",
   "version": "3.11.5"
  }
 },
 "nbformat": 4,
 "nbformat_minor": 5
}
